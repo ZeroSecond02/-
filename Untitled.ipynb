{
 "cells": [
  {
   "cell_type": "markdown",
   "id": "390c7d16-b708-43e4-8007-61abd2a5ebe6",
   "metadata": {},
   "source": [
    "Dataset состоит из : 2000 изображений, на которых изображены 10 разлчиных видов цветов. Информации нет сколько фото относится к каждому классу поэтому распределим все фото по папкам train и test, а результаты изобразим при помощи matplotlib."
   ]
  },
  {
   "cell_type": "code",
   "execution_count": null,
   "id": "fbda9baf-886b-43c0-a8c5-5f767efbbbac",
   "metadata": {},
   "outputs": [],
   "source": [
    "import os\n",
    "import shutil\n",
    "import random"
   ]
  },
  {
   "cell_type": "code",
   "execution_count": null,
   "id": "1ebddcf4-e372-4b0f-8238-bd079a1abe86",
   "metadata": {},
   "outputs": [],
   "source": [
    "# Укажи путь к основной директории с исходными данными\n",
    "base_dir = 'dataset'"
   ]
  },
  {
   "cell_type": "code",
   "execution_count": null,
   "id": "b66e513a-2956-43cf-a53c-ddffd60f55ff",
   "metadata": {},
   "outputs": [],
   "source": [
    "# Директории для хранения разделенных данных\n",
    "train_dir = os.path.join(base_dir, 'train')\n",
    "val_dir = os.path.join(base_dir, 'val')\n",
    "test_dir = os.path.join(base_dir, 'test')"
   ]
  },
  {
   "cell_type": "code",
   "execution_count": null,
   "id": "070a4b44-0536-4af8-b96d-8a1525ec25f2",
   "metadata": {},
   "outputs": [],
   "source": [
    "# Создадим новые директории\n",
    "os.makedirs(train_dir, exist_ok=True)\n",
    "os.makedirs(val_dir, exist_ok=True)\n",
    "os.makedirs(test_dir, exist_ok=True)"
   ]
  },
  {
   "cell_type": "code",
   "execution_count": null,
   "id": "74bc1f25-d6d8-4d5b-a0ae-bd9823f849ce",
   "metadata": {},
   "outputs": [],
   "source": [
    "# Категории цветов\n",
    "categories = ['astilbe', 'calendula', 'carnation', 'common_daisy', 'iris', 'magnolia', 'rose', 'sunflower', 'tulip', 'water_lily']\n",
    "for category in categories:\n",
    "    os.makedirs(os.path.join(train_dir, category), exist_ok=True)\n",
    "    os.makedirs(os.path.join(val_dir, category), exist_ok=True)\n",
    "    os.makedirs(os.path.join(test_dir, category), exist_ok=True)"
   ]
  },
  {
   "cell_type": "code",
   "execution_count": null,
   "id": "918e0953-5cba-49ec-966e-5d41ede93fa7",
   "metadata": {},
   "outputs": [],
   "source": [
    "# Функция для разделения данных\n",
    "def split_data(base_dir, train_dir, val_dir, test_dir, categories, train_split=0.8, val_split=0.1, test_split=0.1):\n",
    "    for category in categories:\n",
    "        category_dir = os.path.join(base_dir, category)\n",
    "        images = os.listdir(category_dir)\n",
    "        random.shuffle(images)"
   ]
  },
  {
   "cell_type": "code",
   "execution_count": null,
   "id": "5e92f9a6-0b35-4d15-a89b-26979ca6935b",
   "metadata": {},
   "outputs": [],
   "source": [
    "import os\n",
    "import shutil\n",
    "import random"
   ]
  },
  {
   "cell_type": "code",
   "execution_count": null,
   "id": "3be6c521-96c4-400b-9af5-3d686b9c0084",
   "metadata": {},
   "outputs": [],
   "source": [
    "# Укажи путь к основной директории с исходными данными\n",
    "base_dir = 'dataset'"
   ]
  },
  {
   "cell_type": "code",
   "execution_count": null,
   "id": "b0030ae0-3f73-4195-bc03-db550890c022",
   "metadata": {},
   "outputs": [],
   "source": [
    "def save_flows(directory, save_path):\n",
    "    \"\"\"\n",
    "    directory (str): Путь к директории с поддиректориями\n",
    "    save_path (str): Путь к файлу\n",
    "    \"\"\""
   ]
  },
  {
   "cell_type": "code",
   "execution_count": null,
   "id": "da56b4db-eb0a-4fdf-959a-a48b2dac9b4f",
   "metadata": {},
   "outputs": [],
   "source": [
    "# Определим количество изображений для каждого набора\n",
    "        train_size = int(train_split * len(images))\n",
    "        val_size = int(val_split * len(images))\n",
    "        test_size = len(images) - train_size - val_size\n",
    "        \n",
    "        train_images = images[:train_size]\n",
    "        val_images = images[train_size:train_size + val_size]\n",
    "        test_images = images[train_size + val_size:]"
   ]
  },
  {
   "cell_type": "code",
   "execution_count": null,
   "id": "951d678b-3a4d-4d4d-9fc6-9ec996f10d4d",
   "metadata": {},
   "outputs": [],
   "source": [
    "import tensorflow as tf\n",
    "from tensorflow.keras.preprocessing.image import ImageDataGenerator\n",
    "from tensorflow.keras.models import Sequential\n",
    "from tensorflow.keras.layers import Conv2D, MaxPooling2D, Flatten, Dense, Dropout\n",
    "from tensorflow.keras.optimizers import Adam\n",
    "import matplotlib.pyplot as plt\n",
    "import os\n",
    "import shutil\n",
    "import random"
   ]
  },
  {
   "cell_type": "code",
   "execution_count": null,
   "id": "65371239-fc72-496d-9a59-d4cb7714ee14",
   "metadata": {},
   "outputs": [],
   "source": [
    "# Укажи путь к основной директории с исходными данными\n",
    "base_dir = 'dataset'\n",
    "\n",
    "batch_s=20"
   ]
  },
  {
   "cell_type": "code",
   "execution_count": null,
   "id": "95c7c09a-b6e9-4e43-ab27-f5ffd32f3c88",
   "metadata": {},
   "outputs": [],
   "source": [
    "# Директории для хранения разделенных данных\n",
    "train_dir = os.path.join(base_dir, 'train')\n",
    "val_dir = os.path.join(base_dir, 'val')\n",
    "test_dir = os.path.join(base_dir, 'test')"
   ]
  },
  {
   "cell_type": "code",
   "execution_count": null,
   "id": "f4d27106-01c8-4f46-b6df-23af846e4ebf",
   "metadata": {},
   "outputs": [],
   "source": [
    "import tkinter as tk\n",
    "from tkinter import filedialog\n",
    "from tkinter import messagebox\n",
    "from PIL import Image, ImageTk\n",
    "import tensorflow as tf\n",
    "import numpy as np"
   ]
  },
  {
   "cell_type": "code",
   "execution_count": null,
   "id": "81cf11ea-7702-4f12-91fe-1cfac9c6741a",
   "metadata": {},
   "outputs": [],
   "source": [
    "# Загрузка модели\n",
    "model = tf.keras.models.load_model('flower_classification_model.h5')\n",
    "class_names = ['astilbe', 'calendula', 'carnation', 'common_daisy', 'iris', 'magnolia', 'rose', 'sunflower', 'tulip', 'water_lily']"
   ]
  },
  {
   "cell_type": "code",
   "execution_count": null,
   "id": "d9cd8112-f35f-4813-97cb-7bb938128fe3",
   "metadata": {},
   "outputs": [],
   "source": [
    "# Функция для предсказания\n",
    "def predict(image_path):\n",
    "    image = Image.open(image_path).resize((150, 150))\n",
    "    image_array = np.array(image) / 255.0\n",
    "    image_array = np.expand_dims(image_array, axis=0)\n",
    "    predictions = model.predict(image_array)\n",
    "    predicted_class = class_names[np.argmax(predictions)]"
   ]
  },
  {
   "cell_type": "code",
   "execution_count": null,
   "id": "345b12fd-bd7e-4755-985c-a8bfa8fe410d",
   "metadata": {},
   "outputs": [],
   "source": [
    "# Функция для загрузки изображения\n",
    "def load_image():\n",
    "    file_path = filedialog.askopenfilename()\n",
    "    if not file_path:\n",
    "        return\n",
    "    try:\n",
    "        image = Image.open(file_path)\n",
    "        image.thumbnail((300, 300))\n",
    "        photo = ImageTk.PhotoImage(image)\n",
    "        image_label.config(image=photo)\n",
    "        image_label.image = photo\n",
    "        prediction = predict(file_path)\n",
    "        result_label.config(text=f'Prediction: {prediction}')\n",
    "    except Exception as e:\n",
    "        messagebox.showerror(\"Error\", f\"Failed to process the image.\\nError: {e}\")"
   ]
  },
  {
   "cell_type": "code",
   "execution_count": null,
   "id": "f4c8bf36-892b-45eb-8a72-e3009c3e7ef0",
   "metadata": {},
   "outputs": [],
   "source": [
    "# Создание главного окна\n",
    "root = tk.Tk()\n",
    "root.title(\"Flower Classification\")"
   ]
  },
  {
   "cell_type": "code",
   "execution_count": null,
   "id": "2d19e150-3409-4690-9b8c-03c7ecfb65f6",
   "metadata": {},
   "outputs": [],
   "source": [
    "# Создание и размещение виджетов\n",
    "image_label = tk.Label(root)\n",
    "image_label.pack()\n",
    "\n",
    "load_button = tk.Button(root, text=\"Load Image\", command=load_image)\n",
    "load_button.pack()\n",
    "\n",
    "result_label = tk.Label(root, text=\"Prediction: \")\n",
    "result_label.pack()"
   ]
  },
  {
   "cell_type": "code",
   "execution_count": null,
   "id": "f193c3ca-45b4-4baa-8edd-4b2a1a055293",
   "metadata": {},
   "outputs": [],
   "source": [
    "# Запуск главного цикла\n",
    "root.mainloop()"
   ]
  },
  {
   "cell_type": "code",
   "execution_count": null,
   "id": "b30e97be-be28-4b07-8d2e-95255af97980",
   "metadata": {},
   "outputs": [],
   "source": [
    "# Создаем генераторы данных\n",
    "train_datagen = ImageDataGenerator(\n",
    "    rescale=1./255,\n",
    "    validation_split=0.2,  # 80% данных для обучения, 20% для валидации\n",
    "    rotation_range=40,\n",
    "    width_shift_range=0.2,\n",
    "    height_shift_range=0.2,\n",
    "    shear_range=0.2,\n",
    "    zoom_range=0.2,\n",
    "    horizontal_flip=True,\n",
    "    fill_mode='nearest'\n",
    ")\n",
    "\n",
    "train_generator = train_datagen.flow_from_directory(\n",
    "    train_dir,\n",
    "    target_size=(150, 150),\n",
    "    batch_size=batch_s,\n",
    "    class_mode='categorical',\n",
    "    subset='training'\n",
    ")\n",
    "\n",
    "validation_generator = train_datagen.flow_from_directory(\n",
    "    val_dir,\n",
    "    target_size=(150, 150),\n",
    "    batch_size=batch_s,\n",
    "    class_mode='categorical',\n",
    "    subset='validation'\n",
    ")\n",
    "\n",
    "\n",
    "model = Sequential([\n",
    "    Conv2D(32, (3, 3), activation='relu', input_shape=(150, 150, 3)),\n",
    "    MaxPooling2D(2, 2),\n",
    "    Conv2D(64, (3, 3), activation='relu'),\n",
    "    MaxPooling2D(2, 2),\n",
    "    Conv2D(128, (3, 3), activation='relu'),\n",
    "    MaxPooling2D(2, 2),\n",
    "    Conv2D(128, (3, 3), activation='relu'),\n",
    "    MaxPooling2D(2, 2),\n",
    "    Flatten(),\n",
    "    Dense(512, activation='relu'),\n",
    "    Dropout(0.5),\n",
    "    Dense(len(train_generator.class_indices), activation='softmax')\n",
    "])\n",
    "\n",
    "model.compile(loss='categorical_crossentropy', optimizer=Adam(learning_rate=0.001), metrics=['accuracy'])"
   ]
  },
  {
   "cell_type": "code",
   "execution_count": null,
   "id": "f88e752e-a264-4f4c-9cb8-ecfbc2d08a3c",
   "metadata": {},
   "outputs": [],
   "source": [
    "# Подготовка генераторов данных\n",
    "train_steps = len(train_dir) // batch_s\n",
    "validation_steps = len(val_dir) // batch_s"
   ]
  },
  {
   "cell_type": "code",
   "execution_count": null,
   "id": "7ed18db1-9afa-4378-8bb1-4ecefcccdc90",
   "metadata": {},
   "outputs": [],
   "source": [
    "# Обучение модели\n",
    "history = model.fit(\n",
    "    train_generator,\n",
    "    steps_per_epoch=train_steps,  # Используем все доступные данные\n",
    "    epochs=20,\n",
    "    validation_data=validation_generator,\n",
    "    validation_steps=validation_steps,  # Используем все доступные данные\n",
    ")"
   ]
  },
  {
   "cell_type": "code",
   "execution_count": null,
   "id": "0f84e015-40c9-47ec-a35b-584b06816ee6",
   "metadata": {},
   "outputs": [],
   "source": [
    "# Оценка модели\n",
    "loss, accuracy = model.evaluate(validation_generator)\n",
    "print(f'Validation accuracy: {accuracy:.2f}')"
   ]
  },
  {
   "cell_type": "code",
   "execution_count": null,
   "id": "f50f83ee-ca4b-4eed-a072-940b647edb7c",
   "metadata": {},
   "outputs": [],
   "source": [
    "# Получаем список поддиректорий в указанной директории\n",
    "    flows = [name for name in os.listdir(directory) if os.path.isdir(os.path.join(directory, name))]\n",
    "    flows.sort()  # Опционально, сортировка списка"
   ]
  },
  {
   "cell_type": "code",
   "execution_count": null,
   "id": "5452f0d7-a167-4bd3-83ca-5c97acc5c6f2",
   "metadata": {},
   "outputs": [],
   "source": [
    "# Копируем изображения в соответствующие директории\n",
    "        for img in train_images:\n",
    "            shutil.copy(os.path.join(category_dir, img), os.path.join(train_dir, category, img))\n",
    "        for img in val_images:\n",
    "            shutil.copy(os.path.join(category_dir, img), os.path.join(val_dir, category, img))\n",
    "        for img in test_images:\n",
    "            shutil.copy(os.path.join(category_dir, img), os.path.join(test_dir, category, img))"
   ]
  },
  {
   "cell_type": "code",
   "execution_count": null,
   "id": "8f1c3d16-cb45-443e-8ff4-006546f97a9a",
   "metadata": {},
   "outputs": [],
   "source": [
    "# Запускаем функцию для разделения данных\n",
    "split_data(base_dir, train_dir, val_dir, test_dir, categories)"
   ]
  },
  {
   "cell_type": "code",
   "execution_count": null,
   "id": "c8c157db-6636-4352-afb5-d8f78c929981",
   "metadata": {},
   "outputs": [],
   "source": [
    "# Сохраняем список в файл\n",
    "    with open(save_path, 'w') as file:\n",
    "        for flow in flows:\n",
    "            file.write(flow + '\\n')"
   ]
  },
  {
   "cell_type": "code",
   "execution_count": null,
   "id": "c13a8e51-1087-4fa0-919b-1610e6e3d43c",
   "metadata": {},
   "outputs": [],
   "source": [
    "# Использование функции\n",
    "directory_path = os.path.join(base_dir, 'test')  # Путь к папке\n",
    "save_path = 'flows_list.txt'  # Путь к файлу для сохранения списка\n",
    "save_flows(directory_path, save_path)"
   ]
  },
  {
   "cell_type": "code",
   "execution_count": null,
   "id": "48603b04-5a18-4eae-8a1f-576000144a35",
   "metadata": {},
   "outputs": [],
   "source": [
    "# Сохранение модели\n",
    "model.save('flower_classification_model.h5')"
   ]
  },
  {
   "cell_type": "code",
   "execution_count": null,
   "id": "5f28d913-3329-43a4-b792-b161e78dd073",
   "metadata": {},
   "outputs": [],
   "source": [
    "# Визуализируем точность и потерю\n",
    "acc = history.history['accuracy']\n",
    "val_acc = history.history['val_accuracy']\n",
    "loss = history.history['loss']\n",
    "val_loss = history.history['val_loss']\n",
    "\n",
    "epochs = range(len(acc))\n",
    "\n",
    "plt.plot(epochs, acc, 'r', label='Training accuracy')\n",
    "plt.plot(epochs, val_acc, 'b', label='Validation accuracy')\n",
    "plt.title('Training and validation accuracy')\n",
    "plt.legend()\n",
    "\n",
    "plt.figure()\n",
    "\n",
    "plt.plot(epochs, loss, 'r', label='Training loss')\n",
    "plt.plot(epochs, val_loss, 'b', label='Validation loss')\n",
    "plt.title('Training and validation loss')\n",
    "plt.legend()\n",
    "\n",
    "plt.show()"
   ]
  }
 ],
 "metadata": {
  "kernelspec": {
   "display_name": "Python 3 (ipykernel)",
   "language": "python",
   "name": "python3"
  },
  "language_info": {
   "codemirror_mode": {
    "name": "ipython",
    "version": 3
   },
   "file_extension": ".py",
   "mimetype": "text/x-python",
   "name": "python",
   "nbconvert_exporter": "python",
   "pygments_lexer": "ipython3",
   "version": "3.11.9"
  }
 },
 "nbformat": 4,
 "nbformat_minor": 5
}
